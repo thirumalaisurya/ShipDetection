{
 "cells": [
  {
   "cell_type": "code",
   "execution_count": 1,
   "id": "f3aa5c03",
   "metadata": {},
   "outputs": [],
   "source": [
    "from fastai.data.all import *\n",
    "from fastai.vision.all import *"
   ]
  },
  {
   "cell_type": "code",
   "execution_count": 2,
   "id": "3b4b1bc4",
   "metadata": {},
   "outputs": [],
   "source": [
    "path =('C:/Users/Admin/Documents/72087 SHIP')"
   ]
  },
  {
   "cell_type": "code",
   "execution_count": 3,
   "id": "7a0b777e",
   "metadata": {},
   "outputs": [],
   "source": [
    "fnames = get_image_files('C:/Users/Admin/Documents/72087 SHIP/train_v2')"
   ]
  },
  {
   "cell_type": "code",
   "execution_count": 4,
   "id": "d62e7b75",
   "metadata": {},
   "outputs": [],
   "source": [
    "dblock = DataBlock()"
   ]
  },
  {
   "cell_type": "code",
   "execution_count": 5,
   "id": "f551b1b3",
   "metadata": {},
   "outputs": [],
   "source": [
    "dsets = dblock.datasets(fnames)\n",
    "dsets.train[0]"
   ]
  },
  {
   "cell_type": "code",
   "execution_count": 6,
   "id": "ccb967f9",
   "metadata": {},
   "outputs": [],
   "source": [
    "dblock = DataBlock(get_items = get_image_files)"
   ]
  },
  {
   "cell_type": "code",
   "execution_count": 7,
   "id": "0db8a3b1",
   "metadata": {},
   "outputs": [],
   "source": [
    "dsets = dblock.datasets('C:/Users/Admin/Documents/72087 SHIP/train_v2')\n",
    "dsets.train[0]"
   ]
  },
  {
   "cell_type": "code",
   "execution_count": 8,
   "id": "533846b4",
   "metadata": {},
   "outputs": [],
   "source": [
    "def label_func(fnames):\n",
    "    return \"Ship\" if fnames.name[0].isupper() else \"Not a ship\""
   ]
  },
  {
   "cell_type": "code",
   "execution_count": 9,
   "id": "11fcaa11",
   "metadata": {},
   "outputs": [],
   "source": [
    "dblock = DataBlock(get_items = get_image_files,\n",
    "                   get_y     = label_func)\n",
    "\n",
    "dsets = dblock.datasets('C:/Users/Admin/Documents/72087 SHIP/train_v2')\n",
    "dsets.train[0]"
   ]
  },
  {
   "cell_type": "code",
   "execution_count": 10,
   "id": "5627076b",
   "metadata": {},
   "outputs": [],
   "source": [
    "dblock = DataBlock(get_items = get_image_files,\n",
    "                   get_y     = label_func)\n",
    "\n",
    "dsets = dblock.datasets('C:/Users/Admin/Documents/72087 SHIP/train_v2')\n",
    "dsets.train[0]"
   ]
  },
  {
   "cell_type": "code",
   "execution_count": 11,
   "id": "bc266003",
   "metadata": {},
   "outputs": [],
   "source": [
    "dblock = DataBlock(blocks    = (ImageBlock, CategoryBlock),\n",
    "                   get_items = get_image_files,\n",
    "                   get_y     = label_func,\n",
    "                   splitter  = RandomSplitter())\n",
    "\n",
    "dsets = dblock.datasets('C:/Users/Admin/Documents/72087 SHIP/train_v2')\n",
    "dsets.train[0]"
   ]
  },
  {
   "cell_type": "code",
   "execution_count": 12,
   "id": "67d46302",
   "metadata": {},
   "outputs": [],
   "source": [
    "dblock = DataBlock(blocks    = (ImageBlock, CategoryBlock),\n",
    "                   get_items = get_image_files,\n",
    "                   get_y     = label_func,\n",
    "                   splitter  = RandomSplitter(),\n",
    "                   item_tfms = Resize(256))"
   ]
  },
  {
   "cell_type": "code",
   "execution_count": 13,
   "id": "7d027257",
   "metadata": {},
   "outputs": [],
   "source": [
    "dls = dblock.dataloaders('C:/Users/Admin/Documents/72087 SHIP/train_v2')\n",
    "dls.show_batch()"
   ]
  },
  {
   "cell_type": "code",
   "execution_count": null,
   "id": "ba204d9a",
   "metadata": {},
   "outputs": [],
   "source": []
  }
 ],
 "metadata": {
  "kernelspec": {
   "display_name": "Python 3 (ipykernel)",
   "language": "python",
   "name": "python3"
  },
  "language_info": {
   "codemirror_mode": {
    "name": "ipython",
    "version": 3
   },
   "file_extension": ".py",
   "mimetype": "text/x-python",
   "name": "python",
   "nbconvert_exporter": "python",
   "pygments_lexer": "ipython3",
   "version": "3.9.7"
  }
 },
 "nbformat": 4,
 "nbformat_minor": 5
}
